{
 "cells": [
  {
   "cell_type": "code",
   "execution_count": 5,
   "metadata": {},
   "outputs": [],
   "source": [
    "import turtle as tl\n",
    "sceen = tl.Screen()\n",
    "sceen.bgcolor(\"light green\")\n",
    "pen = tl.Turtle()\n",
    "pen.pensize(3)\n",
    "pen.color(\"red\")\n",
    "pen.fillcolor(\"yellow\")\n",
    "pen.begin_fill()\n",
    "for i in range(0,2):\n",
    "    pen.fd(200)\n",
    "    pen.left(90)\n",
    "    pen.fd(100)\n",
    "    pen.left(90)\n",
    "pen.end_fill()\n",
    "tl.done()"
   ]
  }
 ],
 "metadata": {
  "kernelspec": {
   "display_name": "Python 3",
   "language": "python",
   "name": "python3"
  },
  "language_info": {
   "codemirror_mode": {
    "name": "ipython",
    "version": 3
   },
   "file_extension": ".py",
   "mimetype": "text/x-python",
   "name": "python",
   "nbconvert_exporter": "python",
   "pygments_lexer": "ipython3",
   "version": "3.10.4"
  },
  "orig_nbformat": 4,
  "vscode": {
   "interpreter": {
    "hash": "4e4c4528611270940a17f960982dd19717385b2491587e4df5cdee527a713aa6"
   }
  }
 },
 "nbformat": 4,
 "nbformat_minor": 2
}
