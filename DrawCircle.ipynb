{
 "cells": [
  {
   "cell_type": "code",
   "execution_count": 1,
   "metadata": {},
   "outputs": [],
   "source": [
    "import turtle as tl\n",
    "screen = tl.Screen()\n",
    "screen.bgcolor(\"green\")\n",
    "pen = tl.Turtle()\n",
    "pen.speed(10)\n",
    "pen.pensize(5)\n",
    "pen.pencolor(\"red\")\n",
    "pen.fillcolor(\"yellow\")\n",
    "pen.begin_fill()\n",
    "pen.penup()\n",
    "pen.goto(-100,50)\n",
    "pen.pendown()\n",
    "pen.circle(100)\n",
    "pen.end_fill()\n",
    "tl.done()"
   ]
  }
 ],
 "metadata": {
  "kernelspec": {
   "display_name": "Python 3",
   "language": "python",
   "name": "python3"
  },
  "language_info": {
   "codemirror_mode": {
    "name": "ipython",
    "version": 3
   },
   "file_extension": ".py",
   "mimetype": "text/x-python",
   "name": "python",
   "nbconvert_exporter": "python",
   "pygments_lexer": "ipython3",
   "version": "3.10.4 (tags/v3.10.4:9d38120, Mar 23 2022, 23:13:41) [MSC v.1929 64 bit (AMD64)]"
  },
  "orig_nbformat": 4,
  "vscode": {
   "interpreter": {
    "hash": "4e4c4528611270940a17f960982dd19717385b2491587e4df5cdee527a713aa6"
   }
  }
 },
 "nbformat": 4,
 "nbformat_minor": 2
}
